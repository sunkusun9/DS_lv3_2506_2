{
 "cells": [
  {
   "cell_type": "markdown",
   "id": "765c0422",
   "metadata": {},
   "source": [
    "# 문제 6\n",
    "\n",
    "[Kaggle 형] train_prob.csv로 failure 예측하는 모델을 만들고, \n",
    "\n",
    "test_prob.csv에 대한 failure가 1일 확률 예측하여 다음과 같은 형식의 answer6.csv를 만들어라. \n",
    "\n",
    "측정 지표는 AUC(area under of ROC curve)이다. id 는 테스트 케이스의 id 이고, failure에는 failure가 1이 될 확률이다.\n",
    "\n",
    "id,failure\n",
    "\n",
    "16115, 0.1\n",
    "\n",
    "16116, 0.2\n",
    "\n",
    "\n",
    "**강사: 멀티캠퍼스 강선구(sunku0316.kang@multicampus.com, sun9sun9@gmail.com)**"
   ]
  },
  {
   "cell_type": "markdown",
   "id": "fa15155b",
   "metadata": {},
   "source": [
    "# Kaggle형 풀이 단계\n",
    "\n",
    "Step 0: Kaggle용 데이터셋을 만든다.\n",
    "\n",
    "Step 1: 검증 방법을 정하고, 검증 루틴을 만듭니다.\n",
    "\n",
    "Step 2: Baseline 모델을 만듭니다\n",
    "\n",
    "Step 3: 모델 선택 루틴을 만듭니다.\n",
    "\n",
    "|id|failure|\n",
    "|----|----|\n",
    "|16115| 0.1|\n",
    "|16116| 0.2|\n",
    "\n",
    "....\t\n",
    "\n",
    "Step 4: 모델 개선 작업을 합니다."
   ]
  },
  {
   "cell_type": "code",
   "execution_count": 1,
   "id": "7aa43b4a",
   "metadata": {},
   "outputs": [
    {
     "name": "stdout",
     "output_type": "stream",
     "text": [
      "3.7.4 (tags/v3.7.4:e09359112e, Jul  8 2019, 20:34:20) [MSC v.1916 64 bit (AMD64)]\n",
      "pandas 0.25.1\n",
      "numpy 1.18.5\n",
      "sklearn 0.21.3\n",
      "scipy 1.5.2\n",
      "mlxtend 0.15.0.0\n",
      "statsmodels 0.11.1\n",
      "xgboost 0.80\n"
     ]
    }
   ],
   "source": [
    "# 실행 환경 확인\n",
    "\n",
    "import pandas as pd\n",
    "import numpy as np\n",
    "import sklearn\n",
    "import scipy\n",
    "import statsmodels\n",
    "import mlxtend\n",
    "import sys\n",
    "import xgboost as xgb\n",
    "\n",
    "print(sys.version)\n",
    "for i in [pd, np, sklearn, scipy, mlxtend, statsmodels, xgb]:\n",
    "    print(i.__name__, i.__version__)"
   ]
  },
  {
   "cell_type": "code",
   "execution_count": 2,
   "id": "04b66950",
   "metadata": {},
   "outputs": [],
   "source": [
    "df_train = pd.read_csv('train_prob.csv', index_col = ['id'])\n",
    "df_test = pd.read_csv('test_prob.csv', index_col = ['id'])\n",
    "# 실제시험 x\n",
    "s_kaggle_ans = pd.read_csv('test_prob_ans.csv', index_col = ['id'])['failure']"
   ]
  },
  {
   "cell_type": "code",
   "execution_count": 3,
   "id": "41647225",
   "metadata": {},
   "outputs": [],
   "source": [
    "df_train = df_train.assign(\n",
    "    na_1 = lambda x: x['measurement_3'].isna(),\n",
    "    na_2 = lambda x: x['measurement_5'].isna(),\n",
    ")\n",
    "df_test = df_test.assign(\n",
    "    na_1 = lambda x: x['measurement_3'].isna(),\n",
    "    na_2 = lambda x: x['measurement_5'].isna(),\n",
    ")"
   ]
  },
  {
   "cell_type": "code",
   "execution_count": 4,
   "id": "f2f85fc5",
   "metadata": {},
   "outputs": [
    {
     "data": {
      "text/plain": [
       "C    5765\n",
       "E    5343\n",
       "B    5250\n",
       "A    5100\n",
       "Name: product_code, dtype: int64"
      ]
     },
     "execution_count": 4,
     "metadata": {},
     "output_type": "execute_result"
    }
   ],
   "source": [
    "df_train['product_code'].value_counts()"
   ]
  },
  {
   "cell_type": "code",
   "execution_count": 5,
   "id": "3bffe454",
   "metadata": {},
   "outputs": [
    {
     "data": {
      "text/plain": [
       "D    5112\n",
       "Name: product_code, dtype: int64"
      ]
     },
     "execution_count": 5,
     "metadata": {},
     "output_type": "execute_result"
    }
   ],
   "source": [
    "df_test['product_code'].value_counts()"
   ]
  },
  {
   "cell_type": "code",
   "execution_count": 7,
   "id": "232de427",
   "metadata": {},
   "outputs": [],
   "source": [
    "# 방법 1: 따로따로\n",
    "from sklearn.experimental import enable_iterative_imputer\n",
    "from sklearn.impute import IterativeImputer\n",
    "from sklearn.linear_model import LinearRegression\n",
    "\n",
    "imp = IterativeImputer(\n",
    "    LinearRegression(fit_intercept=True), # 𝑚𝑒𝑎𝑠𝑢𝑟𝑒𝑚𝑒𝑛𝑡17=𝛽0+𝛽3𝑚𝑒𝑎𝑠𝑢𝑟𝑒𝑚𝑒𝑛𝑡3+𝛽4𝑚𝑒𝑎𝑠𝑢𝑟𝑒𝑚𝑒𝑛𝑡4+...+𝛽9𝑚𝑒𝑎𝑠𝑢𝑟𝑒𝑚𝑒𝑛𝑡9\n",
    "    random_state=123\n",
    ")\n",
    "# product_code 별\n",
    "X_imp = ['measurement_{}'.format(i) for i in range(3, 10)] + ['measurement_17']\n",
    "df_train[X_imp] = df_train.groupby('product_code')[X_imp].apply(\n",
    "    lambda x: pd.DataFrame(imp.fit_transform(x), index =x.index, columns = X_imp)\n",
    ")\n",
    "df_test[X_imp] = df_test.groupby('product_code')[X_imp].apply(\n",
    "    lambda x: pd.DataFrame(imp.fit_transform(x), index =x.index, columns = X_imp)\n",
    ")\n",
    "X_mean = ['measurement_{}'.format(i) for i in range(10, 17)]\n",
    "df_train[X_mean] = df_train.groupby('product_code')[X_mean].transform(lambda x: x.fillna(x.mean()))\n",
    "df_test[X_mean] = df_test.groupby('product_code')[X_mean].transform(lambda x: x.fillna(x.mean()))"
   ]
  },
  {
   "cell_type": "markdown",
   "id": "ea4e6801",
   "metadata": {},
   "source": [
    "- attribute_0와 attribute_1 은 유용하지 않다.\n",
    "- product_code에 따라 loding_log의 평균 같다.\n",
    "- loading + log -> 대칭형\n",
    "- std: \\['loading', 'measurement_1', 'measurement_4', 'measurement_14', 'measurement_17'\\] + pt: ['na_1'] -> LR\n",
    "- std: \\['measurement_0~17\\] -> LDA transformer\n",
    "- LDA: predictor\n",
    "- std: \\['measurement_0~17\\] -> PCA n_components = 7\n",
    "- rf: {'max_depth': [5, 6, 7], 'min_samples_split': [256, 512], 'n_estimators': [5, 10, 15]}"
   ]
  },
  {
   "cell_type": "code",
   "execution_count": 10,
   "id": "32416e2c",
   "metadata": {},
   "outputs": [],
   "source": [
    "m = pd.concat([df_train['loading'], df_test['loading']]).mean()\n",
    "df_train['loading'] = df_train['loading'].fillna(m)\n",
    "df_test['loading'] = df_test['loading'].fillna(m)"
   ]
  },
  {
   "cell_type": "code",
   "execution_count": 13,
   "id": "037e1e53",
   "metadata": {},
   "outputs": [
    {
     "data": {
      "text/plain": [
       "(0, 0)"
      ]
     },
     "execution_count": 13,
     "metadata": {},
     "output_type": "execute_result"
    }
   ],
   "source": [
    "df_train.isna().sum().sum(), df_test.isna().sum().sum()"
   ]
  },
  {
   "cell_type": "code",
   "execution_count": 14,
   "id": "2665a362",
   "metadata": {},
   "outputs": [
    {
     "data": {
      "text/plain": [
       "array(['product_code', 'loading', 'attribute_0', 'attribute_1',\n",
       "       'attribute_2', 'attribute_3', 'measurement_0', 'measurement_1',\n",
       "       'measurement_2', 'measurement_3', 'measurement_4', 'measurement_5',\n",
       "       'measurement_6', 'measurement_7', 'measurement_8', 'measurement_9',\n",
       "       'measurement_10', 'measurement_11', 'measurement_12',\n",
       "       'measurement_13', 'measurement_14', 'measurement_15',\n",
       "       'measurement_16', 'measurement_17', 'na_1', 'na_2'], dtype='<U14')"
      ]
     },
     "execution_count": 14,
     "metadata": {},
     "output_type": "execute_result"
    }
   ],
   "source": [
    "X_all = df_test.columns.tolist()\n",
    "np.array(X_all)"
   ]
  },
  {
   "cell_type": "code",
   "execution_count": 15,
   "id": "c7fa9945",
   "metadata": {},
   "outputs": [
    {
     "data": {
      "text/plain": [
       "0    0.788564\n",
       "1    0.211436\n",
       "Name: failure, dtype: float64"
      ]
     },
     "execution_count": 15,
     "metadata": {},
     "output_type": "execute_result"
    }
   ],
   "source": [
    "df_train['failure'].value_counts(normalize=  True)"
   ]
  },
  {
   "cell_type": "markdown",
   "id": "dc0b9de2",
   "metadata": {},
   "source": [
    "# Step1: 검증 방법을 정하고, 검증 루틴을 만듭니다.\n",
    "\n",
    "Day1에서 했던 Holdout 검증보다 더 안정적인 평가 결과를 얻을 수 있는 교차 검증을 해봅니다."
   ]
  },
  {
   "cell_type": "code",
   "execution_count": 17,
   "id": "d290e720",
   "metadata": {},
   "outputs": [
    {
     "name": "stdout",
     "output_type": "stream",
     "text": [
      "['A' 'B' 'E'] ['C']\n",
      "['A' 'B' 'C'] ['E']\n",
      "['A' 'C' 'E'] ['B']\n",
      "['B' 'C' 'E'] ['A']\n"
     ]
    }
   ],
   "source": [
    "from sklearn.model_selection import GroupKFold\n",
    "gkf = GroupKFold(4)\n",
    "\n",
    "for train_idx, valid_idx in gkf.split(df_train[X_all], df_train['failure'], groups = df_train['product_code']):\n",
    "    print(df_train.iloc[train_idx]['product_code'].unique(), df_train.iloc[valid_idx]['product_code'].unique())"
   ]
  },
  {
   "cell_type": "code",
   "execution_count": null,
   "id": "8196315e",
   "metadata": {},
   "outputs": [],
   "source": [
    "def eval_model(model_name, clf):\n",
    "    \"\"\"\n",
    "        모델의 인스턴스를 받아 검증 결과(AUC) 를 구합니다.\n",
    "        1. GroupKFold 검증 - df_train, groups - product_code\n",
    "        2. df_train 대한 교차검증결과에 대한 AUC를 구합니다.\n",
    "        3. 주어진 모델명으로 평가 결과를 저장합니다. Format: Valid: {:.5f}±{:.5f}, Train: {:.5f}±{:.5f}\n",
    "        4. 가장 최근의 수행결과를 보여 주어 선택하는데 활용하도록 합니다.\n",
    "    Parameters:\n",
    "        model_name: str, 모델의 이름,\n",
    "        clf: sklearn object, 모델 인스턴스\n",
    "    \"\"\"\n",
    "    \n",
    "    return \"\"\n",
    "\n",
    "# 모델 선택 루틴입니다. (Step 3)\n",
    "def select_model(clf):\n",
    "    \"\"\"\n",
    "        1. 전체 학습데이터(df_train)로 학습을 합니다. \n",
    "        2. df_test에 대한 예측을 합니다.\n",
    "        3. 예측 결과를 출력양식(id, failure)에 맞춰 csv파일을 만듭니다.\n",
    "        4. 자가 채점을 위한 예측 결과를 반환합니다.\n",
    "    Parameters: \n",
    "        clf: sklearn object, 모델 인스턴스\n",
    "    Returns: 1차원 np.ndarray\n",
    "        예측 결과\n",
    "    \"\"\"\n",
    "    \n",
    "    return prd"
   ]
  },
  {
   "cell_type": "code",
   "execution_count": 19,
   "id": "b3f96665",
   "metadata": {},
   "outputs": [
    {
     "data": {
      "text/plain": [
       "{'fit_time': array([0.06014419, 0.06818438, 0.04991698, 0.05030346]),\n",
       " 'score_time': array([0.01984668, 0.01216531, 0.02041149, 0.00995398]),\n",
       " 'test_score': array([0.58821746, 0.58491734, 0.58894014, 0.59540058]),\n",
       " 'train_score': array([0.59262252, 0.59350804, 0.59192438, 0.58956303])}"
      ]
     },
     "execution_count": 19,
     "metadata": {},
     "output_type": "execute_result"
    }
   ],
   "source": [
    "from sklearn.model_selection import cross_validate\n",
    "from sklearn.compose import ColumnTransformer\n",
    "from sklearn.preprocessing import StandardScaler\n",
    "from sklearn.pipeline import make_pipeline\n",
    "from sklearn.linear_model import LogisticRegression\n",
    "# std: ['loading', 'measurement_1', 'measurement_4', 'measurement_14', 'measurement_17'] + pt: ['na_1'] -> LR\n",
    "ct = ColumnTransformer([\n",
    "    ('std', StandardScaler(), ['loading', 'measurement_1', 'measurement_4', 'measurement_14', 'measurement_17']),\n",
    "    ('pt', 'passthrough', ['na_1'])\n",
    "])\n",
    "clf_lr = make_pipeline(ct, LogisticRegression(solver = 'lbfgs'))\n",
    "cross_validate(\n",
    "    clf_lr, df_train[X_all], df_train['failure'], groups = df_train['product_code'], scoring = 'roc_auc',\n",
    "    cv = gkf, return_train_score = True\n",
    ")"
   ]
  },
  {
   "cell_type": "code",
   "execution_count": null,
   "id": "673286bf",
   "metadata": {},
   "outputs": [],
   "source": []
  }
 ],
 "metadata": {
  "kernelspec": {
   "display_name": "Python 3 (ipykernel)",
   "language": "python",
   "name": "python3"
  },
  "language_info": {
   "codemirror_mode": {
    "name": "ipython",
    "version": 3
   },
   "file_extension": ".py",
   "mimetype": "text/x-python",
   "name": "python",
   "nbconvert_exporter": "python",
   "pygments_lexer": "ipython3",
   "version": "3.7.4"
  }
 },
 "nbformat": 4,
 "nbformat_minor": 5
}
